{
 "cells": [
  {
   "cell_type": "code",
   "execution_count": 17,
   "id": "55904dbd",
   "metadata": {},
   "outputs": [],
   "source": [
    "import os\n",
    "import tensorflow as tf\n",
    "import numpy as np\n",
    "import pandas as pd\n",
    "import matplotlib.pyplot as plt\n",
    "\n",
    "from keras.preprocessing.image import ImageDataGenerator\n",
    "from PIL import Image\n",
    "from tensorflow import keras"
   ]
  },
  {
   "cell_type": "code",
   "execution_count": 284,
   "id": "cbe8e9bf",
   "metadata": {},
   "outputs": [],
   "source": [
    "BATCH_SIZE = 32\n",
    "OUT = 3\n",
    "INPUT_SHAPE = (32,32,3)\n",
    "EPOCHS = 10\n",
    "INPUT_IMAGE_SIZE = (INPUT_SHAPE[0], INPUT_SHAPE[1])\n",
    "FILTERS = 3"
   ]
  },
  {
   "cell_type": "code",
   "execution_count": 285,
   "id": "82034049",
   "metadata": {},
   "outputs": [
    {
     "name": "stderr",
     "output_type": "stream",
     "text": [
      "<>:7: SyntaxWarning: \"is\" with a literal. Did you mean \"==\"?\n",
      "<>:7: SyntaxWarning: \"is\" with a literal. Did you mean \"==\"?\n",
      "<ipython-input-285-1112dd454573>:7: SyntaxWarning: \"is\" with a literal. Did you mean \"==\"?\n",
      "  if choice is 'mnist':\n"
     ]
    }
   ],
   "source": [
    "from tensorflow.keras.datasets import mnist, fashion_mnist\n",
    "\n",
    "def load_data(choice='mnist', labels=False):\n",
    "    if choice not in ['mnist', 'fashion_mnist']:\n",
    "        raise ('Choices are mnist and fashion_mnist')\n",
    "    \n",
    "    if choice is 'mnist':\n",
    "        (X_train, y_train), (X_test, y_test) = mnist.load_data()\n",
    "    else:\n",
    "        (X_train, y_train), (X_test, y_test) = fashion_mnist.load_data()\n",
    "    \n",
    "    X_train, X_test = X_train / 255., X_test / 255.\n",
    "    X_train, X_test = X_train.reshape([-1, 784]), X_test.reshape([-1, 784])\n",
    "    X_train = X_train.astype(np.float32, copy=False)\n",
    "    X_test = X_test.astype(np.float32, copy=False)\n",
    "    \n",
    "    if labels:\n",
    "        return (X_train, y_train), (X_test, y_test)\n",
    "    \n",
    "    return X_train, X_test\n",
    "\n",
    "\n",
    "def plot_predictions(y_true, y_pred):    \n",
    "    f, ax = plt.subplots(2, 10, figsize=(15, 4))\n",
    "    for i in range(10):\n",
    "        ax[0][i].imshow(np.reshape(y_true[i], (28, 28)), aspect='auto')\n",
    "        ax[1][i].imshow(np.reshape(y_pred[i], (28, 28)), aspect='auto')\n",
    "    plt.tight_layout()"
   ]
  },
  {
   "cell_type": "code",
   "execution_count": 286,
   "id": "7dc5bcf5",
   "metadata": {},
   "outputs": [],
   "source": [
    "def plot_digits(X, y, encoder, batch_size=128):\n",
    "    # display a 2D plot of the digit classes in the latent space\n",
    "    z_mean, _, _ = encoder.predict(X, batch_size=batch_size)\n",
    "    plt.figure(figsize=(12, 10))\n",
    "    plt.scatter(z_mean[:, 0], z_mean[:, 1], c=y)\n",
    "    plt.colorbar()\n",
    "    plt.xlabel(\"z[0] Latent Dimension\")\n",
    "    plt.ylabel(\"z[1] Latent Dimension\")\n",
    "    plt.show()\n",
    "    \n",
    "    \n",
    "def generate_manifold(decoder):\n",
    "    # display a 30x30 2D manifold of digits\n",
    "    n = 2\n",
    "    digit_size = 28\n",
    "    figure = np.zeros((digit_size * n, digit_size * n))\n",
    "    \n",
    "    # linearly spaced coordinates corresponding to the 2D plot\n",
    "    # of digit classes in the latent space\n",
    "    grid_x = np.linspace(-4, 4, n)\n",
    "    grid_y = np.linspace(-4, 4, n)[::-1]\n",
    "    \n",
    "    for i, yi in enumerate(grid_y):\n",
    "        for j, xi in enumerate(grid_x):\n",
    "            z_sample = np.array([[xi, yi]])\n",
    "            x_decoded = decoder.predict(z_sample)\n",
    "            digit = x_decoded[0].reshape(digit_size, digit_size)\n",
    "            figure[i * digit_size: (i + 1) * digit_size,\n",
    "                   j * digit_size: (j + 1) * digit_size] = digit        \n",
    "    \n",
    "    plt.figure(figsize=(10, 10))\n",
    "    start_range = digit_size // 2\n",
    "    end_range = n * digit_size + start_range + 1\n",
    "    pixel_range = np.arange(start_range, end_range, digit_size)\n",
    "    sample_range_x = np.round(grid_x, 1)\n",
    "    sample_range_y = np.round(grid_y, 1)\n",
    "    \n",
    "    plt.xticks(pixel_range, sample_range_x)\n",
    "    plt.yticks(pixel_range, sample_range_y)\n",
    "    plt.xlabel(\"z[0] Latent Dimension\")\n",
    "    plt.ylabel(\"z[1] Latent Dimension\")\n",
    "    plt.imshow(figure, cmap='Greys_r')\n",
    "    plt.show()"
   ]
  },
  {
   "cell_type": "code",
   "execution_count": 287,
   "id": "3a48cf7c",
   "metadata": {},
   "outputs": [],
   "source": [
    "def plot_learning_metrics(result, title):\n",
    "    accuracy_percentage = np.round(100 * result.history[\"accuracy\"][-1], 3) \n",
    "    print(f\"Accuracy: {accuracy_percentage}% \\n\")\n",
    "    \n",
    "    x_range = range(EPOCHS)\n",
    "    \n",
    "    fig, (loss_plt, accuracy_plt) = plt.subplots(nrows=1, ncols=2, figsize = (15, 5))\n",
    "    \n",
    "    loss_plt.plot(x_range, result.history[\"loss\"], \"r\", label=\"TRAIN loss\")\n",
    "    loss_plt.plot(x_range, result.history[\"val_loss\"], \"g\", label=\"TEST loss\")\n",
    "    loss_plt.legend()\n",
    "    \n",
    "    accuracy_plt.plot(x_range, result.history[\"accuracy\"], \"b\", label=\"TRAIN accuracy\")\n",
    "    accuracy_plt.plot(x_range, result.history[\"val_accuracy\"], \"lightgreen\", label=\"TEST accuracy\")\n",
    "    accuracy_plt.legend()\n",
    "    \n",
    "    plt.suptitle(f\"TRAIN and TEST metrics -> {title}\")\n",
    "    \n",
    "    fig.tight_layout()\n",
    "    plt.show()"
   ]
  },
  {
   "cell_type": "markdown",
   "id": "4ba9112f",
   "metadata": {},
   "source": [
    "# Mask detection"
   ]
  },
  {
   "cell_type": "code",
   "execution_count": 288,
   "id": "37ed48b0",
   "metadata": {},
   "outputs": [],
   "source": [
    "datagen = ImageDataGenerator(\n",
    "    rescale = 1.0 / 255, \n",
    "    horizontal_flip=True, \n",
    "    zoom_range=0.1, \n",
    "    shear_range=0.2, \n",
    "    width_shift_range=0.1, \n",
    "    height_shift_range=0.1, \n",
    "    rotation_range=4, \n",
    "    vertical_flip=False\n",
    ")\n",
    "\n",
    "val_datagen = ImageDataGenerator(\n",
    "    rescale = 1.0 / 255\n",
    ")"
   ]
  },
  {
   "cell_type": "code",
   "execution_count": 289,
   "id": "1aab5bf6",
   "metadata": {},
   "outputs": [
    {
     "name": "stdout",
     "output_type": "stream",
     "text": [
      "Found 3876 images belonging to 3 classes.\n",
      "Found 1036 images belonging to 3 classes.\n",
      "Found 465 images belonging to 3 classes.\n"
     ]
    }
   ],
   "source": [
    "train_dataset = datagen.flow_from_directory(\n",
    "    directory=\"./mask_dataset/train\",\n",
    "    target_size=INPUT_IMAGE_SIZE,\n",
    "    class_mode=\"categorical\",\n",
    "    batch_size = BATCH_SIZE,\n",
    "    shuffle = True\n",
    ")\n",
    "\n",
    "validation_dataset = val_datagen.flow_from_directory(\n",
    "    directory = \"./mask_dataset/val\",\n",
    "    target_size = INPUT_IMAGE_SIZE,\n",
    "    class_mode = \"categorical\",\n",
    "    batch_size = BATCH_SIZE,\n",
    "    shuffle=True\n",
    ")\n",
    "\n",
    "test_dataset = val_datagen.flow_from_directory(\n",
    "    directory = \"./mask_dataset/test\",\n",
    "    target_size = INPUT_IMAGE_SIZE,\n",
    "    class_mode = \"categorical\",\n",
    "    batch_size = BATCH_SIZE,\n",
    "    shuffle = True\n",
    ")"
   ]
  },
  {
   "cell_type": "markdown",
   "id": "1ec4a699",
   "metadata": {},
   "source": [
    "This practise work is about unsupervised learning, so that we must delete labels to the photos"
   ]
  },
  {
   "cell_type": "code",
   "execution_count": 290,
   "id": "f5545aa3",
   "metadata": {},
   "outputs": [
    {
     "name": "stdout",
     "output_type": "stream",
     "text": [
      "shapes: train = (3876, 32, 32, 3), validation = (1036, 32, 32, 3), test = (465, 32, 32, 3)\n"
     ]
    }
   ],
   "source": [
    "train_data = np.concatenate([train_dataset.next()[0] for i in range(len(train_dataset))])\n",
    "validation_data = np.concatenate([validation_dataset.next()[0] for i in range(len(validation_dataset))])\n",
    "test_data = np.concatenate([test_dataset.next()[0] for i in range(len(test_dataset))])\n",
    "\n",
    "train_labels = np.concatenate([train_dataset.next()[1] for i in range(len(train_dataset))])\n",
    "validation_labels = np.concatenate([validation_dataset.next()[0] for i in range(len(validation_dataset))])\n",
    "test_labels = np.concatenate([test_dataset.next()[1] for i in range(len(test_dataset))])\n",
    "\n",
    "print(f\"shapes: train = {train_data.shape}, validation = {validation_data.shape}, test = {test_data.shape}\")"
   ]
  },
  {
   "cell_type": "markdown",
   "id": "02854542",
   "metadata": {},
   "source": [
    "# MNIST"
   ]
  },
  {
   "cell_type": "code",
   "execution_count": 293,
   "id": "b9862e99",
   "metadata": {},
   "outputs": [],
   "source": [
    "def sampling(args):\n",
    "    z_mean, z_log_var = args\n",
    "    eps = tf.random.normal(tf.shape(z_log_var), dtype=tf.float32, mean=0.0, stddev=1.0, name=\"epsilon\")\n",
    "    z = z_mean + tf.exp(z_log_var / 2) * eps\n",
    "    return z"
   ]
  },
  {
   "cell_type": "code",
   "execution_count": 294,
   "id": "b0a7e89f",
   "metadata": {},
   "outputs": [],
   "source": [
    "HIDDEN_DIM = 512\n",
    "LATENT_DIM = 2\n",
    "num_features = 784\n",
    "EPOCHS=50"
   ]
  },
  {
   "cell_type": "markdown",
   "id": "581cc69f",
   "metadata": {},
   "source": [
    "#### Encoder"
   ]
  },
  {
   "cell_type": "code",
   "execution_count": 295,
   "id": "129341dd",
   "metadata": {},
   "outputs": [
    {
     "name": "stdout",
     "output_type": "stream",
     "text": [
      "Model: \"encoder\"\n",
      "__________________________________________________________________________________________________\n",
      " Layer (type)                   Output Shape         Param #     Connected to                     \n",
      "==================================================================================================\n",
      " input (InputLayer)             [(None, 784)]        0           []                               \n",
      "                                                                                                  \n",
      " dense_74 (Dense)               (None, 512)          401920      ['input[0][0]']                  \n",
      "                                                                                                  \n",
      " z_mean (Dense)                 (None, 2)            1026        ['dense_74[0][0]']               \n",
      "                                                                                                  \n",
      " z_log_var (Dense)              (None, 2)            1026        ['dense_74[0][0]']               \n",
      "                                                                                                  \n",
      " z (Lambda)                     (None, 2)            0           ['z_mean[0][0]',                 \n",
      "                                                                  'z_log_var[0][0]']              \n",
      "                                                                                                  \n",
      "==================================================================================================\n",
      "Total params: 403,972\n",
      "Trainable params: 403,972\n",
      "Non-trainable params: 0\n",
      "__________________________________________________________________________________________________\n"
     ]
    }
   ],
   "source": [
    "inputs = tf.keras.layers.Input(shape=(num_features, ), name = \"input\")\n",
    "x = tf.keras.layers.Dense(HIDDEN_DIM, activation=\"relu\")(inputs)\n",
    "z_mean = tf.keras.layers.Dense(LATENT_DIM, name=\"z_mean\")(x)\n",
    "z_log_var = tf.keras.layers.Dense(LATENT_DIM, name=\"z_log_var\")(x)\n",
    "z = tf.keras.layers.Lambda(sampling, name=\"z\")([z_mean, z_log_var])\n",
    "\n",
    "encoder = tf.keras.Model(inputs, [z_mean, z_log_var, z], name=\"encoder\")\n",
    "encoder.summary()"
   ]
  },
  {
   "cell_type": "markdown",
   "id": "5642db49",
   "metadata": {},
   "source": [
    "#### Decoder"
   ]
  },
  {
   "cell_type": "code",
   "execution_count": 296,
   "id": "36e8b244",
   "metadata": {},
   "outputs": [
    {
     "name": "stdout",
     "output_type": "stream",
     "text": [
      "Model: \"decoder\"\n",
      "_________________________________________________________________\n",
      " Layer (type)                Output Shape              Param #   \n",
      "=================================================================\n",
      " z_sampling (InputLayer)     [(None, 2)]               0         \n",
      "                                                                 \n",
      " dense_75 (Dense)            (None, 512)               1536      \n",
      "                                                                 \n",
      " dense_76 (Dense)            (None, 784)               402192    \n",
      "                                                                 \n",
      "=================================================================\n",
      "Total params: 403,728\n",
      "Trainable params: 403,728\n",
      "Non-trainable params: 0\n",
      "_________________________________________________________________\n"
     ]
    }
   ],
   "source": [
    "latent_inputs = tf.keras.layers.Input(shape=(LATENT_DIM, ), name=\"z_sampling\")\n",
    "x = tf.keras.layers.Dense(HIDDEN_DIM, activation=\"relu\")(latent_inputs)\n",
    "outputs = tf.keras.layers.Dense(num_features, activation=\"sigmoid\")(x)\n",
    "\n",
    "decoder = tf.keras.Model(latent_inputs, outputs, name=\"decoder\")\n",
    "decoder.summary()"
   ]
  },
  {
   "cell_type": "code",
   "execution_count": 304,
   "id": "ffc1d841",
   "metadata": {},
   "outputs": [],
   "source": [
    "outputs = decoder(encoder(inputs)[2])\n",
    "vae = tf.keras.Model(inputs, outputs, name=\"vae\")"
   ]
  },
  {
   "cell_type": "code",
   "execution_count": 298,
   "id": "03acecb7",
   "metadata": {},
   "outputs": [
    {
     "name": "stdout",
     "output_type": "stream",
     "text": [
      "Model: \"vae\"\n",
      "__________________________________________________________________________________________________\n",
      " Layer (type)                   Output Shape         Param #     Connected to                     \n",
      "==================================================================================================\n",
      " input (InputLayer)             [(None, 784)]        0           []                               \n",
      "                                                                                                  \n",
      " encoder (Functional)           [(None, 2),          403972      ['input[0][0]']                  \n",
      "                                 (None, 2),                                                       \n",
      "                                 (None, 2)]                                                       \n",
      "                                                                                                  \n",
      " decoder (Functional)           (None, 784)          403728      ['encoder[0][2]']                \n",
      "                                                                                                  \n",
      " dense_74 (Dense)               (None, 512)          401920      ['input[0][0]']                  \n",
      "                                                                                                  \n",
      " z_log_var (Dense)              (None, 2)            1026        ['dense_74[0][0]']               \n",
      "                                                                                                  \n",
      " z_mean (Dense)                 (None, 2)            1026        ['dense_74[0][0]']               \n",
      "                                                                                                  \n",
      " tf.__operators__.add_42 (TFOpL  (None, 2)           0           ['z_log_var[0][0]']              \n",
      " ambda)                                                                                           \n",
      "                                                                                                  \n",
      " tf.math.square_21 (TFOpLambda)  (None, 2)           0           ['z_mean[0][0]']                 \n",
      "                                                                                                  \n",
      " tf.convert_to_tensor_23 (TFOpL  (None, 784)         0           ['decoder[0][0]']                \n",
      " ambda)                                                                                           \n",
      "                                                                                                  \n",
      " tf.cast_23 (TFOpLambda)        (None, 784)          0           ['input[0][0]']                  \n",
      "                                                                                                  \n",
      " tf.math.subtract_42 (TFOpLambd  (None, 2)           0           ['tf.__operators__.add_42[0][0]',\n",
      " a)                                                               'tf.math.square_21[0][0]']      \n",
      "                                                                                                  \n",
      " tf.math.exp_21 (TFOpLambda)    (None, 2)            0           ['z_log_var[0][0]']              \n",
      "                                                                                                  \n",
      " tf.math.squared_difference_23   (None, 784)         0           ['tf.convert_to_tensor_23[0][0]',\n",
      " (TFOpLambda)                                                     'tf.cast_23[0][0]']             \n",
      "                                                                                                  \n",
      " tf.math.subtract_43 (TFOpLambd  (None, 2)           0           ['tf.math.subtract_42[0][0]',    \n",
      " a)                                                               'tf.math.exp_21[0][0]']         \n",
      "                                                                                                  \n",
      " tf.math.reduce_mean_42 (TFOpLa  (None,)             0           ['tf.math.squared_difference_23[0\n",
      " mbda)                                                           ][0]']                           \n",
      "                                                                                                  \n",
      " tf.math.reduce_sum_21 (TFOpLam  (None,)             0           ['tf.math.subtract_43[0][0]']    \n",
      " bda)                                                                                             \n",
      "                                                                                                  \n",
      " tf.math.multiply_50 (TFOpLambd  (None,)             0           ['tf.math.reduce_mean_42[0][0]'] \n",
      " a)                                                                                               \n",
      "                                                                                                  \n",
      " tf.math.multiply_51 (TFOpLambd  (None,)             0           ['tf.math.reduce_sum_21[0][0]']  \n",
      " a)                                                                                               \n",
      "                                                                                                  \n",
      " tf.__operators__.add_43 (TFOpL  (None,)             0           ['tf.math.multiply_50[0][0]',    \n",
      " ambda)                                                           'tf.math.multiply_51[0][0]']    \n",
      "                                                                                                  \n",
      " tf.math.reduce_mean_43 (TFOpLa  ()                  0           ['tf.__operators__.add_43[0][0]']\n",
      " mbda)                                                                                            \n",
      "                                                                                                  \n",
      " add_loss_20 (AddLoss)          ()                   0           ['tf.math.reduce_mean_43[0][0]'] \n",
      "                                                                                                  \n",
      "==================================================================================================\n",
      "Total params: 807,700\n",
      "Trainable params: 807,700\n",
      "Non-trainable params: 0\n",
      "__________________________________________________________________________________________________\n"
     ]
    }
   ],
   "source": [
    "reconstruction_loss = tf.keras.losses.mean_squared_error(inputs, outputs)\n",
    "reconstruction_loss = reconstruction_loss * num_features\n",
    "\n",
    "kl_loss = 1 + z_log_var - tf.square(z_mean) - tf.exp(z_log_var)\n",
    "kl_loss = -0.5 * tf.reduce_sum(kl_loss, axis=-1)\n",
    "\n",
    "vae_loss = tf.reduce_mean(reconstruction_loss + kl_loss)\n",
    "vae.add_loss(vae_loss)\n",
    "vae.compile(optimizer=\"adam\")\n",
    "vae.summary()"
   ]
  },
  {
   "cell_type": "code",
   "execution_count": 299,
   "id": "0f4ba3ed",
   "metadata": {},
   "outputs": [
    {
     "name": "stdout",
     "output_type": "stream",
     "text": [
      "Epoch 1/50\n",
      "1875/1875 [==============================] - 9s 4ms/step - loss: 45.6809 - val_loss: 42.2351\n",
      "Epoch 2/50\n",
      "1875/1875 [==============================] - 8s 4ms/step - loss: 41.8534 - val_loss: 41.1708\n",
      "Epoch 3/50\n",
      "1875/1875 [==============================] - 8s 4ms/step - loss: 41.0546 - val_loss: 40.5331\n",
      "Epoch 4/50\n",
      "1875/1875 [==============================] - 7s 4ms/step - loss: 40.5423 - val_loss: 40.3410\n",
      "Epoch 5/50\n",
      "1875/1875 [==============================] - 7s 4ms/step - loss: 40.1150 - val_loss: 39.9417\n",
      "Epoch 6/50\n",
      "1875/1875 [==============================] - 7s 4ms/step - loss: 39.7409 - val_loss: 39.5350\n",
      "Epoch 7/50\n",
      "1875/1875 [==============================] - 7s 4ms/step - loss: 39.4618 - val_loss: 39.2784\n",
      "Epoch 8/50\n",
      "1875/1875 [==============================] - 7s 4ms/step - loss: 39.1895 - val_loss: 39.1580\n",
      "Epoch 9/50\n",
      "1875/1875 [==============================] - 7s 4ms/step - loss: 38.9691 - val_loss: 39.0143\n",
      "Epoch 10/50\n",
      "1875/1875 [==============================] - 7s 4ms/step - loss: 38.7836 - val_loss: 38.6858\n",
      "Epoch 11/50\n",
      "1875/1875 [==============================] - 7s 4ms/step - loss: 38.6067 - val_loss: 38.4776\n",
      "Epoch 12/50\n",
      "1875/1875 [==============================] - 7s 4ms/step - loss: 38.4269 - val_loss: 38.4584\n",
      "Epoch 13/50\n",
      "1875/1875 [==============================] - 7s 4ms/step - loss: 38.2877 - val_loss: 38.3793\n",
      "Epoch 14/50\n",
      "1875/1875 [==============================] - 7s 4ms/step - loss: 38.1455 - val_loss: 38.2428\n",
      "Epoch 15/50\n",
      "1875/1875 [==============================] - 7s 4ms/step - loss: 38.0340 - val_loss: 38.1098\n",
      "Epoch 16/50\n",
      "1875/1875 [==============================] - 8s 4ms/step - loss: 37.9211 - val_loss: 38.0176\n",
      "Epoch 17/50\n",
      "1875/1875 [==============================] - 8s 4ms/step - loss: 37.8255 - val_loss: 37.8769\n",
      "Epoch 18/50\n",
      "1875/1875 [==============================] - 7s 4ms/step - loss: 37.7015 - val_loss: 38.0311\n",
      "Epoch 19/50\n",
      "1875/1875 [==============================] - 8s 4ms/step - loss: 37.6343 - val_loss: 37.8461\n",
      "Epoch 20/50\n",
      "1875/1875 [==============================] - 7s 4ms/step - loss: 37.5403 - val_loss: 37.8577\n",
      "Epoch 21/50\n",
      "1875/1875 [==============================] - 7s 4ms/step - loss: 37.4758 - val_loss: 37.6772\n",
      "Epoch 22/50\n",
      "1875/1875 [==============================] - 7s 4ms/step - loss: 37.4022 - val_loss: 37.5986\n",
      "Epoch 23/50\n",
      "1875/1875 [==============================] - 8s 4ms/step - loss: 37.3407 - val_loss: 37.5861\n",
      "Epoch 24/50\n",
      "1875/1875 [==============================] - 8s 4ms/step - loss: 37.2869 - val_loss: 37.5843\n",
      "Epoch 25/50\n",
      "1875/1875 [==============================] - 7s 4ms/step - loss: 37.2199 - val_loss: 37.5679\n",
      "Epoch 26/50\n",
      "1875/1875 [==============================] - 7s 4ms/step - loss: 37.1367 - val_loss: 37.5067\n",
      "Epoch 27/50\n",
      "1875/1875 [==============================] - 7s 4ms/step - loss: 37.1108 - val_loss: 37.5964\n",
      "Epoch 28/50\n",
      "1875/1875 [==============================] - 7s 4ms/step - loss: 37.0440 - val_loss: 37.5019\n",
      "Epoch 29/50\n",
      "1875/1875 [==============================] - 7s 4ms/step - loss: 37.0193 - val_loss: 37.3985\n",
      "Epoch 30/50\n",
      "1875/1875 [==============================] - 7s 4ms/step - loss: 36.9488 - val_loss: 37.4555\n",
      "Epoch 31/50\n",
      "1875/1875 [==============================] - 7s 4ms/step - loss: 36.9123 - val_loss: 37.3072\n",
      "Epoch 32/50\n",
      "1875/1875 [==============================] - 7s 4ms/step - loss: 36.8692 - val_loss: 37.3418\n",
      "Epoch 33/50\n",
      "1875/1875 [==============================] - 7s 4ms/step - loss: 36.8161 - val_loss: 37.3600\n",
      "Epoch 34/50\n",
      "1875/1875 [==============================] - 7s 4ms/step - loss: 36.7776 - val_loss: 37.2784\n",
      "Epoch 35/50\n",
      "1875/1875 [==============================] - 7s 4ms/step - loss: 36.7436 - val_loss: 37.3601\n",
      "Epoch 36/50\n",
      "1875/1875 [==============================] - 7s 4ms/step - loss: 36.6999 - val_loss: 37.3054\n",
      "Epoch 37/50\n",
      "1875/1875 [==============================] - 8s 4ms/step - loss: 36.6564 - val_loss: 37.2767\n",
      "Epoch 38/50\n",
      "1875/1875 [==============================] - 8s 4ms/step - loss: 36.6177 - val_loss: 37.1331\n",
      "Epoch 39/50\n",
      "1875/1875 [==============================] - 8s 4ms/step - loss: 36.5980 - val_loss: 37.1842\n",
      "Epoch 40/50\n",
      "1875/1875 [==============================] - 8s 4ms/step - loss: 36.5651 - val_loss: 37.0807\n",
      "Epoch 41/50\n",
      "1875/1875 [==============================] - 7s 4ms/step - loss: 36.5292 - val_loss: 37.1157\n",
      "Epoch 42/50\n",
      "1875/1875 [==============================] - 7s 4ms/step - loss: 36.5094 - val_loss: 37.2319\n",
      "Epoch 43/50\n",
      "1875/1875 [==============================] - 7s 4ms/step - loss: 36.4635 - val_loss: 37.0782\n",
      "Epoch 44/50\n",
      "1875/1875 [==============================] - 7s 4ms/step - loss: 36.4411 - val_loss: 37.1433\n",
      "Epoch 45/50\n",
      "1875/1875 [==============================] - 7s 4ms/step - loss: 36.4000 - val_loss: 37.2864\n",
      "Epoch 46/50\n",
      "1875/1875 [==============================] - 7s 4ms/step - loss: 36.3758 - val_loss: 37.1104\n",
      "Epoch 47/50\n",
      "1875/1875 [==============================] - 7s 4ms/step - loss: 36.3663 - val_loss: 37.1254\n",
      "Epoch 48/50\n",
      "1875/1875 [==============================] - 7s 4ms/step - loss: 36.3433 - val_loss: 37.1234\n",
      "Epoch 49/50\n",
      "1875/1875 [==============================] - 7s 4ms/step - loss: 36.2988 - val_loss: 36.9855\n",
      "Epoch 50/50\n",
      "1875/1875 [==============================] - 7s 4ms/step - loss: 36.2719 - val_loss: 37.1643\n"
     ]
    },
    {
     "data": {
      "text/plain": [
       "<keras.callbacks.History at 0x7f1c97a35f10>"
      ]
     },
     "execution_count": 299,
     "metadata": {},
     "output_type": "execute_result"
    }
   ],
   "source": [
    "(X_train, _),  (X_test, y) = load_data('mnist', labels=True)\n",
    "vae.fit(X_train, epochs=EPOCHS, batch_size=BATCH_SIZE, validation_data=(X_test, None))"
   ]
  },
  {
   "cell_type": "code",
   "execution_count": 300,
   "id": "326109f9",
   "metadata": {},
   "outputs": [],
   "source": [
    "result = vae.predict(X_test)"
   ]
  },
  {
   "cell_type": "code",
   "execution_count": 301,
   "id": "5fca3795",
   "metadata": {},
   "outputs": [
    {
     "data": {
      "image/png": "[encoded data removed]",
      "text/plain": [
       "<Figure size 864x720 with 2 Axes>"
      ]
     },
     "metadata": {
      "needs_background": "light"
     },
     "output_type": "display_data"
    }
   ],
   "source": [
    "plot_digits(X_test, y, encoder)  # y for label coloring"
   ]
  },
  {
   "cell_type": "code",
   "execution_count": 302,
   "id": "ef63b127",
   "metadata": {},
   "outputs": [],
   "source": [
    "result = np.reshape(result, (result.shape[0], 28, 28))"
   ]
  },
  {
   "cell_type": "code",
   "execution_count": 303,
   "id": "33e678b2",
   "metadata": {},
   "outputs": [
    {
     "data": {
      "image/png": "[encoded data removed]",
      "text/plain": [
       "<Figure size 432x288 with 1 Axes>"
      ]
     },
     "metadata": {
      "needs_background": "light"
     },
     "output_type": "display_data"
    }
   ],
   "source": [
    "plt.imshow(result[4], cmap='Greys_r')\n",
    "plt.show()"
   ]
  },
  {
   "cell_type": "markdown",
   "id": "81fb7b3e",
   "metadata": {},
   "source": [
    "# Face mask images"
   ]
  },
  {
   "cell_type": "markdown",
   "id": "1d81207f",
   "metadata": {},
   "source": [
    "#### Encoder"
   ]
  },
  {
   "cell_type": "code",
   "execution_count": 229,
   "id": "f36460a8",
   "metadata": {},
   "outputs": [],
   "source": [
    "FILTERS_NUM = 64\n",
    "LATENT_DIM = 128"
   ]
  },
  {
   "cell_type": "code",
   "execution_count": 195,
   "id": "7899626f",
   "metadata": {},
   "outputs": [
    {
     "name": "stdout",
     "output_type": "stream",
     "text": [
      "Model: \"encoder\"\n",
      "__________________________________________________________________________________________________\n",
      " Layer (type)                   Output Shape         Param #     Connected to                     \n",
      "==================================================================================================\n",
      " input (InputLayer)             [(None, 12288)]      0           []                               \n",
      "                                                                                                  \n",
      " dense_50 (Dense)               (None, 512)          6291968     ['input[0][0]']                  \n",
      "                                                                                                  \n",
      " z_mean (Dense)                 (None, 128)          65664       ['dense_50[0][0]']               \n",
      "                                                                                                  \n",
      " z_log_var (Dense)              (None, 128)          65664       ['dense_50[0][0]']               \n",
      "                                                                                                  \n",
      " z (Lambda)                     (None, 128)          0           ['z_mean[0][0]',                 \n",
      "                                                                  'z_log_var[0][0]']              \n",
      "                                                                                                  \n",
      "==================================================================================================\n",
      "Total params: 6,423,296\n",
      "Trainable params: 6,423,296\n",
      "Non-trainable params: 0\n",
      "__________________________________________________________________________________________________\n"
     ]
    }
   ],
   "source": [
    "inputs = tf.keras.layers.Input(shape=(num_features, ), name = \"input\")\n",
    "x = tf.keras.layers.Dense(HIDDEN_DIM, activation=\"relu\")(inputs)\n",
    "z_mean = tf.keras.layers.Dense(LATENT_DIM, name=\"z_mean\")(x)\n",
    "z_log_var = tf.keras.layers.Dense(LATENT_DIM, name=\"z_log_var\")(x)\n",
    "z = tf.keras.layers.Lambda(sampling, name=\"z\")([z_mean, z_log_var])\n",
    "\n",
    "encoder = tf.keras.Model(inputs, [z_mean, z_log_var, z], name=\"encoder\")\n",
    "encoder.summary()"
   ]
  },
  {
   "cell_type": "markdown",
   "id": "bf73a095",
   "metadata": {},
   "source": [
    "#### Decoder"
   ]
  },
  {
   "cell_type": "code",
   "execution_count": 196,
   "id": "a4b6a6f0",
   "metadata": {},
   "outputs": [
    {
     "name": "stdout",
     "output_type": "stream",
     "text": [
      "Model: \"decoder\"\n",
      "_________________________________________________________________\n",
      " Layer (type)                Output Shape              Param #   \n",
      "=================================================================\n",
      " z_sampling (InputLayer)     [(None, 128)]             0         \n",
      "                                                                 \n",
      " dense_51 (Dense)            (None, 512)               66048     \n",
      "                                                                 \n",
      " dense_52 (Dense)            (None, 12288)             6303744   \n",
      "                                                                 \n",
      "=================================================================\n",
      "Total params: 6,369,792\n",
      "Trainable params: 6,369,792\n",
      "Non-trainable params: 0\n",
      "_________________________________________________________________\n"
     ]
    }
   ],
   "source": [
    "latent_inputs = tf.keras.layers.Input(shape=(LATENT_DIM, ), name=\"z_sampling\")\n",
    "x = tf.keras.layers.Dense(HIDDEN_DIM, activation=\"relu\")(latent_inputs)\n",
    "outputs = tf.keras.layers.Dense(num_features, activation=\"sigmoid\")(x)\n",
    "\n",
    "decoder = tf.keras.Model(latent_inputs, outputs, name=\"decoder\")\n",
    "decoder.summary()"
   ]
  },
  {
   "cell_type": "code",
   "execution_count": 197,
   "id": "9552ab14",
   "metadata": {},
   "outputs": [],
   "source": [
    "outputs = decoder(encoder(inputs)[2])\n",
    "vae = tf.keras.Model(inputs, outputs, name=\"vae\")"
   ]
  },
  {
   "cell_type": "code",
   "execution_count": 198,
   "id": "b1f9193b",
   "metadata": {},
   "outputs": [
    {
     "name": "stdout",
     "output_type": "stream",
     "text": [
      "Model: \"vae\"\n",
      "__________________________________________________________________________________________________\n",
      " Layer (type)                   Output Shape         Param #     Connected to                     \n",
      "==================================================================================================\n",
      " input (InputLayer)             [(None, 12288)]      0           []                               \n",
      "                                                                                                  \n",
      " encoder (Functional)           [(None, 128),        6423296     ['input[0][0]']                  \n",
      "                                 (None, 128),                                                     \n",
      "                                 (None, 128)]                                                     \n",
      "                                                                                                  \n",
      " decoder (Functional)           (None, 12288)        6369792     ['encoder[0][2]']                \n",
      "                                                                                                  \n",
      " dense_50 (Dense)               (None, 512)          6291968     ['input[0][0]']                  \n",
      "                                                                                                  \n",
      " z_log_var (Dense)              (None, 128)          65664       ['dense_50[0][0]']               \n",
      "                                                                                                  \n",
      " z_mean (Dense)                 (None, 128)          65664       ['dense_50[0][0]']               \n",
      "                                                                                                  \n",
      " tf.__operators__.add_34 (TFOpL  (None, 128)         0           ['z_log_var[0][0]']              \n",
      " ambda)                                                                                           \n",
      "                                                                                                  \n",
      " tf.math.square_17 (TFOpLambda)  (None, 128)         0           ['z_mean[0][0]']                 \n",
      "                                                                                                  \n",
      " tf.convert_to_tensor_19 (TFOpL  (None, 12288)       0           ['decoder[0][0]']                \n",
      " ambda)                                                                                           \n",
      "                                                                                                  \n",
      " tf.cast_19 (TFOpLambda)        (None, 12288)        0           ['input[0][0]']                  \n",
      "                                                                                                  \n",
      " tf.math.subtract_34 (TFOpLambd  (None, 128)         0           ['tf.__operators__.add_34[0][0]',\n",
      " a)                                                               'tf.math.square_17[0][0]']      \n",
      "                                                                                                  \n",
      " tf.math.exp_17 (TFOpLambda)    (None, 128)          0           ['z_log_var[0][0]']              \n",
      "                                                                                                  \n",
      " tf.math.squared_difference_19   (None, 12288)       0           ['tf.convert_to_tensor_19[0][0]',\n",
      " (TFOpLambda)                                                     'tf.cast_19[0][0]']             \n",
      "                                                                                                  \n",
      " tf.math.subtract_35 (TFOpLambd  (None, 128)         0           ['tf.math.subtract_34[0][0]',    \n",
      " a)                                                               'tf.math.exp_17[0][0]']         \n",
      "                                                                                                  \n",
      " tf.math.reduce_mean_34 (TFOpLa  (None,)             0           ['tf.math.squared_difference_19[0\n",
      " mbda)                                                           ][0]']                           \n",
      "                                                                                                  \n",
      " tf.math.reduce_sum_17 (TFOpLam  (None,)             0           ['tf.math.subtract_35[0][0]']    \n",
      " bda)                                                                                             \n",
      "                                                                                                  \n",
      " tf.math.multiply_42 (TFOpLambd  (None,)             0           ['tf.math.reduce_mean_34[0][0]'] \n",
      " a)                                                                                               \n",
      "                                                                                                  \n",
      " tf.math.multiply_43 (TFOpLambd  (None,)             0           ['tf.math.reduce_sum_17[0][0]']  \n",
      " a)                                                                                               \n",
      "                                                                                                  \n",
      " tf.__operators__.add_35 (TFOpL  (None,)             0           ['tf.math.multiply_42[0][0]',    \n",
      " ambda)                                                           'tf.math.multiply_43[0][0]']    \n",
      "                                                                                                  \n",
      " tf.math.reduce_mean_35 (TFOpLa  ()                  0           ['tf.__operators__.add_35[0][0]']\n",
      " mbda)                                                                                            \n",
      "                                                                                                  \n",
      " add_loss_17 (AddLoss)          ()                   0           ['tf.math.reduce_mean_35[0][0]'] \n",
      "                                                                                                  \n",
      "==================================================================================================\n",
      "Total params: 12,793,088\n",
      "Trainable params: 12,793,088\n",
      "Non-trainable params: 0\n",
      "__________________________________________________________________________________________________\n"
     ]
    }
   ],
   "source": [
    "reconstruction_loss = tf.keras.losses.mean_squared_error(inputs, outputs)\n",
    "reconstruction_loss = reconstruction_loss * num_features\n",
    "\n",
    "kl_loss = 1 + z_log_var - tf.square(z_mean) - tf.exp(z_log_var)\n",
    "kl_loss = -0.5 * tf.reduce_sum(kl_loss, axis=-1)\n",
    "\n",
    "vae_loss = tf.reduce_mean(reconstruction_loss + kl_loss)\n",
    "vae.add_loss(vae_loss)\n",
    "vae.compile(optimizer=\"adam\")\n",
    "vae.summary()"
   ]
  },
  {
   "cell_type": "code",
   "execution_count": 217,
   "id": "06e86ef1",
   "metadata": {},
   "outputs": [],
   "source": [
    "def encoder_conv2d(latent_dim):\n",
    "    inputs = tf.keras.Input(shape=INPUT_SHAPE, name=\"input\")\n",
    "    \n",
    "    conv1 = keras.layers.Conv2D(32, (3, 3), activation='relu', padding='same')(inputs)\n",
    "    conv1 = keras.layers.BatchNormalization()(conv1)\n",
    "    conv1 = keras.layers.Conv2D(32, (3, 3), activation='relu', padding='same')(conv1)\n",
    "    conv1 = keras.layers.BatchNormalization()(conv1)\n",
    "    pool1 = keras.layers.MaxPooling2D(pool_size=(2, 2))(conv1)\n",
    "    conv2 = keras.layers.Conv2D(64, (3, 3), activation='relu', padding='same')(pool1)\n",
    "    conv2 = keras.layers.BatchNormalization()(conv2)\n",
    "    conv2 = keras.layers.Conv2D(64, (3, 3), activation='relu', padding='same')(conv2)\n",
    "    conv2 = keras.layers.BatchNormalization()(conv2)\n",
    "    pool2 = keras.layers.MaxPooling2D(pool_size=(2, 2))(conv2)\n",
    "    conv3 = keras.layers.Conv2D(128, (3, 3), activation='relu', padding='same')(pool2)\n",
    "    conv3 = keras.layers.BatchNormalization()(conv3)\n",
    "    conv3 = keras.layers.Conv2D(128, (3, 3), activation='relu', padding='same')(conv3)\n",
    "    conv3 = keras.layers.BatchNormalization()(conv3)\n",
    "    conv4 = keras.layers.Conv2D(256, (3, 3), activation='relu', padding='same')(conv3)\n",
    "    conv4 = keras.layers.BatchNormalization()(conv4)\n",
    "    conv4 = keras.layers.Conv2D(256, (3, 3), activation='relu', padding='same')(conv4)\n",
    "    conv4 = keras.layers.BatchNormalization()(conv4)\n",
    "    \n",
    "    x = tf.keras.layers.Flatten()(conv4)\n",
    "    x = tf.keras.layers.Dense(16, activation=\"relu\")(x)\n",
    "    \n",
    "    z_mean = tf.keras.layers.Dense(latent_dim, name=\"z_mean\")(x)\n",
    "    z_log_var = tf.keras.layers.Dense(latent_dim, name=\"z_log_var\")(x)\n",
    "    \n",
    "    z = tf.keras.layers.Lambda(sampling, name=\"z\")([z_mean, z_log_var])\n",
    "    \n",
    "    encoder = tf.keras.Model(inputs, [z_mean, z_log_var, z], name=\"encoder\")\n",
    "    return encoder"
   ]
  },
  {
   "cell_type": "code",
   "execution_count": 232,
   "id": "f5f0da62",
   "metadata": {},
   "outputs": [],
   "source": [
    "def encoder_2d_cut(latent_dim):\n",
    "    inputs = tf.keras.Input(shape=INPUT_SHAPE, name='input')\n",
    "\n",
    "    x = tf.keras.layers.Conv2D(FILTERS_NUM, (3, 3), activation='relu', strides=2, padding='same')(inputs)\n",
    "    x = tf.keras.layers.Conv2D(FILTERS_NUM*2, (3, 3), activation='relu', strides=2, padding='same')(x)\n",
    "\n",
    "    # shape info needed to build decoder model\n",
    "    shape = x.get_shape().as_list()\n",
    "\n",
    "    # generate latent vector Q(z|X)\n",
    "    x = tf.keras.layers.Flatten()(x)\n",
    "    x = tf.keras.layers.Dense(16, activation='relu')(x)\n",
    "    z_mean = tf.keras.layers.Dense(LATENT_DIM, name='z_mean')(x)\n",
    "    z_log_var = tf.keras.layers.Dense(LATENT_DIM, name='z_log_var')(x)\n",
    "\n",
    "    z = tf.keras.layers.Lambda(sampling, name='z')([z_mean, z_log_var])\n",
    "\n",
    "    # instantiate encoder model\n",
    "    encoder = tf.keras.Model(inputs, [z_mean, z_log_var, z], name='encoder')\n",
    "    return encoder"
   ]
  },
  {
   "cell_type": "code",
   "execution_count": 233,
   "id": "b219e18b",
   "metadata": {},
   "outputs": [
    {
     "name": "stdout",
     "output_type": "stream",
     "text": [
      "Model: \"encoder\"\n",
      "__________________________________________________________________________________________________\n",
      " Layer (type)                   Output Shape         Param #     Connected to                     \n",
      "==================================================================================================\n",
      " input (InputLayer)             [(None, 64, 64, 3)]  0           []                               \n",
      "                                                                                                  \n",
      " conv2d_42 (Conv2D)             (None, 32, 32, 64)   1792        ['input[0][0]']                  \n",
      "                                                                                                  \n",
      " conv2d_43 (Conv2D)             (None, 16, 16, 128)  73856       ['conv2d_42[0][0]']              \n",
      "                                                                                                  \n",
      " flatten_5 (Flatten)            (None, 32768)        0           ['conv2d_43[0][0]']              \n",
      "                                                                                                  \n",
      " dense_57 (Dense)               (None, 16)           524304      ['flatten_5[0][0]']              \n",
      "                                                                                                  \n",
      " z_mean (Dense)                 (None, 128)          2176        ['dense_57[0][0]']               \n",
      "                                                                                                  \n",
      " z_log_var (Dense)              (None, 128)          2176        ['dense_57[0][0]']               \n",
      "                                                                                                  \n",
      " z (Lambda)                     (None, 128)          0           ['z_mean[0][0]',                 \n",
      "                                                                  'z_log_var[0][0]']              \n",
      "                                                                                                  \n",
      "==================================================================================================\n",
      "Total params: 604,304\n",
      "Trainable params: 604,304\n",
      "Non-trainable params: 0\n",
      "__________________________________________________________________________________________________\n"
     ]
    }
   ],
   "source": [
    "_encoder = encoder_2d_cut(LATENT_DIM)\n",
    "_encoder.summary()"
   ]
  },
  {
   "cell_type": "markdown",
   "id": "3bb27573",
   "metadata": {},
   "source": [
    "#### Decoder"
   ]
  },
  {
   "cell_type": "code",
   "execution_count": 322,
   "id": "1ac451a8",
   "metadata": {},
   "outputs": [],
   "source": [
    "def decoder_conv2d():\n",
    "    \n",
    "    latent_inputs = tf.keras.Input(shape=INPUT_SHAPE, name=\"z_sampling\")\n",
    "    \n",
    "    conv5 = keras.layers.Conv2DTranspose(128, (3, 3), activation='relu', padding='same')(latent_inputs)\n",
    "    conv5 = keras.layers.BatchNormalization()(conv5)\n",
    "    conv5 = keras.layers.Conv2DTranspose(128, (3, 3), activation='relu', padding='same')(latent_inputs)\n",
    "    conv5 = keras.layers.BatchNormalization()(conv5)\n",
    "    conv6 = keras.layers.Conv2DTranspose(64, (3, 3), activation='relu', padding='same')(latent_inputs)\n",
    "    conv6 = keras.layers.BatchNormalization()(conv6)\n",
    "    conv6 = keras.layers.Conv2DTranspose(64, (3, 3), activation='relu', padding='same')(conv6)\n",
    "    conv6 = keras.layers.BatchNormalization()(conv6)\n",
    "    ups_1 = keras.layers.UpSampling2D((2,2))(conv6)\n",
    "    conv7 = keras.layers.Conv2DTranspose(32, (3, 3), activation='relu', padding='same')(ups_1)\n",
    "    conv7 = keras.layers.BatchNormalization()(conv7)\n",
    "    conv7 = keras.layers.Conv2DTranspose(32, (3, 3), activation='relu', padding='same')(conv7)\n",
    "    conv7 = keras.layers.BatchNormalization()(conv7)\n",
    "    ups_2 = keras.layers.UpSampling2D((2,2))(conv7)\n",
    "    decoded = keras.layers.Conv2DTranspose(3, (3, 3), activation='sigmoid', padding='same', name=\"decoded_out\")(ups_2)\n",
    "    \n",
    "    decoder = tf.keras.Model(latent_inputs, decoded, name=\"decoder\")\n",
    "    \n",
    "    return decoder"
   ]
  },
  {
   "cell_type": "code",
   "execution_count": 323,
   "id": "04705e09",
   "metadata": {},
   "outputs": [],
   "source": [
    "def decoder_2d_cut():\n",
    "    latent_inputs = tf.keras.Input(shape=(LATENT_DIM,), name='z_sampling')\n",
    "    x = tf.keras.layers.Dense(INPUT_SHAPE[0] * INPUT_SHAPE[1] * INPUT_SHAPE[2], activation='relu')(latent_inputs)\n",
    "    x = tf.keras.layers.Reshape((INPUT_SHAPE[0], INPUT_SHAPE[1], INPUT_SHAPE[2]))(x)\n",
    "    x = tf.keras.layers.Conv2DTranspose(FILTERS*2, (3, 3), activation='relu', strides=2, padding='same')(x)\n",
    "    x = tf.keras.layers.Conv2DTranspose(FILTERS, (3, 3), activation='relu', strides=2, padding='same')(x)\n",
    "    outputs = tf.keras.layers.Conv2DTranspose(3, (3, 3), activation='sigmoid', padding='same', name='decoder_output')(x)\n",
    "\n",
    "    # instantiate decoder model\n",
    "    decoder = tf.keras.Model(latent_inputs, outputs, name='decoder')\n",
    "    return decoder"
   ]
  },
  {
   "cell_type": "code",
   "execution_count": 324,
   "id": "5e74403b",
   "metadata": {},
   "outputs": [
    {
     "name": "stdout",
     "output_type": "stream",
     "text": [
      "Model: \"decoder\"\n",
      "_________________________________________________________________\n",
      " Layer (type)                Output Shape              Param #   \n",
      "=================================================================\n",
      " z_sampling (InputLayer)     [(None, 32, 32, 3)]       0         \n",
      "                                                                 \n",
      " conv2d_transpose_49 (Conv2D  (None, 32, 32, 64)       1792      \n",
      " Transpose)                                                      \n",
      "                                                                 \n",
      " batch_normalization_48 (Bat  (None, 32, 32, 64)       256       \n",
      " chNormalization)                                                \n",
      "                                                                 \n",
      " conv2d_transpose_50 (Conv2D  (None, 32, 32, 64)       36928     \n",
      " Transpose)                                                      \n",
      "                                                                 \n",
      " batch_normalization_49 (Bat  (None, 32, 32, 64)       256       \n",
      " chNormalization)                                                \n",
      "                                                                 \n",
      " up_sampling2d_2 (UpSampling  (None, 64, 64, 64)       0         \n",
      " 2D)                                                             \n",
      "                                                                 \n",
      " conv2d_transpose_51 (Conv2D  (None, 64, 64, 32)       18464     \n",
      " Transpose)                                                      \n",
      "                                                                 \n",
      " batch_normalization_50 (Bat  (None, 64, 64, 32)       128       \n",
      " chNormalization)                                                \n",
      "                                                                 \n",
      " conv2d_transpose_52 (Conv2D  (None, 64, 64, 32)       9248      \n",
      " Transpose)                                                      \n",
      "                                                                 \n",
      " batch_normalization_51 (Bat  (None, 64, 64, 32)       128       \n",
      " chNormalization)                                                \n",
      "                                                                 \n",
      " up_sampling2d_3 (UpSampling  (None, 128, 128, 32)     0         \n",
      " 2D)                                                             \n",
      "                                                                 \n",
      " decoded_out (Conv2DTranspos  (None, 128, 128, 3)      867       \n",
      " e)                                                              \n",
      "                                                                 \n",
      "=================================================================\n",
      "Total params: 68,067\n",
      "Trainable params: 67,683\n",
      "Non-trainable params: 384\n",
      "_________________________________________________________________\n"
     ]
    }
   ],
   "source": [
    "_decoder = decoder_conv2d()\n",
    "_decoder.summary()"
   ]
  },
  {
   "cell_type": "code",
   "execution_count": 325,
   "id": "37b4f0eb",
   "metadata": {},
   "outputs": [
    {
     "ename": "ValueError",
     "evalue": "Layer \"encoder\" expects 1 input(s), but it received 3 input tensors. Inputs received: [<tf.Tensor: shape=(), dtype=int32, numpy=32>, <tf.Tensor: shape=(), dtype=int32, numpy=32>, <tf.Tensor: shape=(), dtype=int32, numpy=3>]",
     "output_type": "error",
     "traceback": [
      "\u001b[0;31m\u001b[0m",
      "\u001b[0;31mValueError\u001b[0mTraceback (most recent call last)",
      "\u001b[0;32m<ipython-input-325-2459d71de2af>\u001b[0m in \u001b[0;36m<module>\u001b[0;34m\u001b[0m\n\u001b[1;32m      1\u001b[0m \u001b[0minputs\u001b[0m \u001b[0;34m=\u001b[0m \u001b[0mtf\u001b[0m\u001b[0;34m.\u001b[0m\u001b[0mkeras\u001b[0m\u001b[0;34m.\u001b[0m\u001b[0mInput\u001b[0m\u001b[0;34m(\u001b[0m\u001b[0mshape\u001b[0m\u001b[0;34m=\u001b[0m\u001b[0mINPUT_SHAPE\u001b[0m\u001b[0;34m,\u001b[0m \u001b[0mname\u001b[0m\u001b[0;34m=\u001b[0m\u001b[0;34m\"input\"\u001b[0m\u001b[0;34m)\u001b[0m\u001b[0;34m\u001b[0m\u001b[0;34m\u001b[0m\u001b[0m\n\u001b[0;32m----> 2\u001b[0;31m \u001b[0moutputs\u001b[0m \u001b[0;34m=\u001b[0m \u001b[0m_decoder\u001b[0m\u001b[0;34m(\u001b[0m\u001b[0m_encoder\u001b[0m\u001b[0;34m(\u001b[0m\u001b[0mINPUT_SHAPE\u001b[0m\u001b[0;34m)\u001b[0m\u001b[0;34m[\u001b[0m\u001b[0;36m2\u001b[0m\u001b[0;34m]\u001b[0m\u001b[0;34m)\u001b[0m\u001b[0;34m\u001b[0m\u001b[0;34m\u001b[0m\u001b[0m\n\u001b[0m\u001b[1;32m      3\u001b[0m \u001b[0mvae\u001b[0m \u001b[0;34m=\u001b[0m \u001b[0mkr\u001b[0m\u001b[0;34m.\u001b[0m\u001b[0mModel\u001b[0m\u001b[0;34m(\u001b[0m\u001b[0minputs\u001b[0m\u001b[0;34m,\u001b[0m \u001b[0moutputs\u001b[0m\u001b[0;34m,\u001b[0m \u001b[0mname\u001b[0m\u001b[0;34m=\u001b[0m\u001b[0;34m\"vae\"\u001b[0m\u001b[0;34m)\u001b[0m\u001b[0;34m\u001b[0m\u001b[0;34m\u001b[0m\u001b[0m\n",
      "\u001b[0;32m/opt/conda/lib/python3.8/site-packages/keras/utils/traceback_utils.py\u001b[0m in \u001b[0;36merror_handler\u001b[0;34m(*args, **kwargs)\u001b[0m\n\u001b[1;32m     65\u001b[0m     \u001b[0;32mexcept\u001b[0m \u001b[0mException\u001b[0m \u001b[0;32mas\u001b[0m \u001b[0me\u001b[0m\u001b[0;34m:\u001b[0m  \u001b[0;31m# pylint: disable=broad-except\u001b[0m\u001b[0;34m\u001b[0m\u001b[0;34m\u001b[0m\u001b[0m\n\u001b[1;32m     66\u001b[0m       \u001b[0mfiltered_tb\u001b[0m \u001b[0;34m=\u001b[0m \u001b[0m_process_traceback_frames\u001b[0m\u001b[0;34m(\u001b[0m\u001b[0me\u001b[0m\u001b[0;34m.\u001b[0m\u001b[0m__traceback__\u001b[0m\u001b[0;34m)\u001b[0m\u001b[0;34m\u001b[0m\u001b[0;34m\u001b[0m\u001b[0m\n\u001b[0;32m---> 67\u001b[0;31m       \u001b[0;32mraise\u001b[0m \u001b[0me\u001b[0m\u001b[0;34m.\u001b[0m\u001b[0mwith_traceback\u001b[0m\u001b[0;34m(\u001b[0m\u001b[0mfiltered_tb\u001b[0m\u001b[0;34m)\u001b[0m \u001b[0;32mfrom\u001b[0m \u001b[0;32mNone\u001b[0m\u001b[0;34m\u001b[0m\u001b[0;34m\u001b[0m\u001b[0m\n\u001b[0m\u001b[1;32m     68\u001b[0m     \u001b[0;32mfinally\u001b[0m\u001b[0;34m:\u001b[0m\u001b[0;34m\u001b[0m\u001b[0;34m\u001b[0m\u001b[0m\n\u001b[1;32m     69\u001b[0m       \u001b[0;32mdel\u001b[0m \u001b[0mfiltered_tb\u001b[0m\u001b[0;34m\u001b[0m\u001b[0;34m\u001b[0m\u001b[0m\n",
      "\u001b[0;32m/opt/conda/lib/python3.8/site-packages/keras/engine/input_spec.py\u001b[0m in \u001b[0;36massert_input_compatibility\u001b[0;34m(input_spec, inputs, layer_name)\u001b[0m\n\u001b[1;32m    197\u001b[0m \u001b[0;34m\u001b[0m\u001b[0m\n\u001b[1;32m    198\u001b[0m   \u001b[0;32mif\u001b[0m \u001b[0mlen\u001b[0m\u001b[0;34m(\u001b[0m\u001b[0minputs\u001b[0m\u001b[0;34m)\u001b[0m \u001b[0;34m!=\u001b[0m \u001b[0mlen\u001b[0m\u001b[0;34m(\u001b[0m\u001b[0minput_spec\u001b[0m\u001b[0;34m)\u001b[0m\u001b[0;34m:\u001b[0m\u001b[0;34m\u001b[0m\u001b[0;34m\u001b[0m\u001b[0m\n\u001b[0;32m--> 199\u001b[0;31m     raise ValueError(f'Layer \"{layer_name}\" expects {len(input_spec)} input(s),'\n\u001b[0m\u001b[1;32m    200\u001b[0m                      \u001b[0;34mf' but it received {len(inputs)} input tensors. '\u001b[0m\u001b[0;34m\u001b[0m\u001b[0;34m\u001b[0m\u001b[0m\n\u001b[1;32m    201\u001b[0m                      f'Inputs received: {inputs}')\n",
      "\u001b[0;31mValueError\u001b[0m: Layer \"encoder\" expects 1 input(s), but it received 3 input tensors. Inputs received: [<tf.Tensor: shape=(), dtype=int32, numpy=32>, <tf.Tensor: shape=(), dtype=int32, numpy=32>, <tf.Tensor: shape=(), dtype=int32, numpy=3>]"
     ]
    }
   ],
   "source": [
    "inputs = tf.keras.Input(shape=INPUT_SHAPE, name=\"input\")\n",
    "outputs = _decoder(_encoder(INPUT_SHAPE)[2])\n",
    "vae = kr.Model(inputs, outputs, name=\"vae\")"
   ]
  },
  {
   "cell_type": "code",
   "execution_count": 326,
   "id": "4d88bb51",
   "metadata": {},
   "outputs": [
    {
     "name": "stdout",
     "output_type": "stream",
     "text": [
      "Model: \"encoder\"\n",
      "__________________________________________________________________________________________________\n",
      " Layer (type)                   Output Shape         Param #     Connected to                     \n",
      "==================================================================================================\n",
      " input (InputLayer)             [(None, 32, 32, 3)]  0           []                               \n",
      "                                                                                                  \n",
      " conv2d_56 (Conv2D)             (None, 16, 16, 3)    84          ['input[0][0]']                  \n",
      "                                                                                                  \n",
      " conv2d_57 (Conv2D)             (None, 8, 8, 6)      168         ['conv2d_56[0][0]']              \n",
      "                                                                                                  \n",
      " flatten_12 (Flatten)           (None, 384)          0           ['conv2d_57[0][0]']              \n",
      "                                                                                                  \n",
      " dense_80 (Dense)               (None, 16)           6160        ['flatten_12[0][0]']             \n",
      "                                                                                                  \n",
      " z_mean (Dense)                 (None, 2)            34          ['dense_80[0][0]']               \n",
      "                                                                                                  \n",
      " z_log_var (Dense)              (None, 2)            34          ['dense_80[0][0]']               \n",
      "                                                                                                  \n",
      " z (Lambda)                     (None, 2)            0           ['z_mean[0][0]',                 \n",
      "                                                                  'z_log_var[0][0]']              \n",
      "                                                                                                  \n",
      "==================================================================================================\n",
      "Total params: 6,480\n",
      "Trainable params: 6,480\n",
      "Non-trainable params: 0\n",
      "__________________________________________________________________________________________________\n"
     ]
    }
   ],
   "source": [
    "inputs = tf.keras.Input(shape=INPUT_SHAPE, name='input')\n",
    "\n",
    "x = tf.keras.layers.Conv2D(FILTERS, (3, 3), activation='relu', strides=2, padding='same')(inputs)\n",
    "x = tf.keras.layers.Conv2D(FILTERS*2, (3, 3), activation='relu', strides=2, padding='same')(x)\n",
    "\n",
    "# shape info needed to build decoder model\n",
    "shape = x.get_shape().as_list()\n",
    "\n",
    "# generate latent vector Q(z|X)\n",
    "x = tf.keras.layers.Flatten()(x)\n",
    "x = tf.keras.layers.Dense(16, activation='relu')(x)\n",
    "z_mean = tf.keras.layers.Dense(LATENT_DIM, name='z_mean')(x)\n",
    "z_log_var = tf.keras.layers.Dense(LATENT_DIM, name='z_log_var')(x)\n",
    "\n",
    "z = tf.keras.layers.Lambda(sampling, name='z')([z_mean, z_log_var])\n",
    "\n",
    "# instantiate encoder model\n",
    "encoder = tf.keras.Model(inputs, [z_mean, z_log_var, z], name='encoder')\n",
    "encoder.summary()"
   ]
  },
  {
   "cell_type": "code",
   "execution_count": 331,
   "id": "7edd4df9",
   "metadata": {},
   "outputs": [
    {
     "name": "stdout",
     "output_type": "stream",
     "text": [
      "Model: \"decoder\"\n",
      "_________________________________________________________________\n",
      " Layer (type)                Output Shape              Param #   \n",
      "=================================================================\n",
      " z_sampling (InputLayer)     [(None, 2)]               0         \n",
      "                                                                 \n",
      " dense_82 (Dense)            (None, 384)               1152      \n",
      "                                                                 \n",
      " reshape_16 (Reshape)        (None, 8, 8, 6)           0         \n",
      "                                                                 \n",
      " conv2d_transpose_55 (Conv2D  (None, 16, 16, 6)        330       \n",
      " Transpose)                                                      \n",
      "                                                                 \n",
      " conv2d_transpose_56 (Conv2D  (None, 32, 32, 3)        165       \n",
      " Transpose)                                                      \n",
      "                                                                 \n",
      " decoder_output (Conv2DTrans  (None, 32, 32, 3)        84        \n",
      " pose)                                                           \n",
      "                                                                 \n",
      "=================================================================\n",
      "Total params: 1,731\n",
      "Trainable params: 1,731\n",
      "Non-trainable params: 0\n",
      "_________________________________________________________________\n"
     ]
    }
   ],
   "source": [
    "# build decoder model\n",
    "latent_inputs = tf.keras.Input(shape=(LATENT_DIM,), name='z_sampling')\n",
    "x = tf.keras.layers.Dense(shape[1] * shape[2] * shape[3], activation='relu')(latent_inputs)\n",
    "x = tf.keras.layers.Reshape((shape[1], shape[2], shape[3]))(x)\n",
    "x = tf.keras.layers.Conv2DTranspose(FILTERS*2, (3, 3), activation='relu', strides=2, padding='same')(x)\n",
    "x = tf.keras.layers.Conv2DTranspose(FILTERS, (3, 3), activation='relu', strides=2, padding='same')(x)\n",
    "outputs = tf.keras.layers.Conv2DTranspose(3, (3, 3), activation='sigmoid', padding='same', name='decoder_output')(x)\n",
    "\n",
    "# instantiate decoder model\n",
    "decoder = tf.keras.Model(latent_inputs, outputs, name='decoder')\n",
    "decoder.summary()"
   ]
  },
  {
   "cell_type": "code",
   "execution_count": 332,
   "id": "5fcf2995",
   "metadata": {},
   "outputs": [
    {
     "data": {
      "text/plain": [
       "TensorShape([None, 32, 32, 3])"
      ]
     },
     "execution_count": 332,
     "metadata": {},
     "output_type": "execute_result"
    }
   ],
   "source": [
    "outputs.get_shape()"
   ]
  },
  {
   "cell_type": "code",
   "execution_count": 333,
   "id": "896ab9a6",
   "metadata": {},
   "outputs": [],
   "source": [
    "outputs = decoder(encoder(inputs)[2])\n",
    "vae = tf.keras.Model(inputs, outputs, name='vae')"
   ]
  },
  {
   "cell_type": "code",
   "execution_count": 334,
   "id": "6a6a68e7",
   "metadata": {},
   "outputs": [
    {
     "name": "stdout",
     "output_type": "stream",
     "text": [
      "Model: \"vae\"\n",
      "__________________________________________________________________________________________________\n",
      " Layer (type)                   Output Shape         Param #     Connected to                     \n",
      "==================================================================================================\n",
      " input (InputLayer)             [(None, 32, 32, 3)]  0           []                               \n",
      "                                                                                                  \n",
      " encoder (Functional)           [(None, 2),          6480        ['input[0][0]']                  \n",
      "                                 (None, 2),                                                       \n",
      "                                 (None, 2)]                                                       \n",
      "                                                                                                  \n",
      " decoder (Functional)           (None, 32, 32, 3)    1731        ['encoder[1][2]']                \n",
      "                                                                                                  \n",
      " conv2d_56 (Conv2D)             (None, 16, 16, 3)    84          ['input[0][0]']                  \n",
      "                                                                                                  \n",
      " conv2d_57 (Conv2D)             (None, 8, 8, 6)      168         ['conv2d_56[0][0]']              \n",
      "                                                                                                  \n",
      " flatten_12 (Flatten)           (None, 384)          0           ['conv2d_57[0][0]']              \n",
      "                                                                                                  \n",
      " dense_80 (Dense)               (None, 16)           6160        ['flatten_12[0][0]']             \n",
      "                                                                                                  \n",
      " z_log_var (Dense)              (None, 2)            34          ['dense_80[0][0]']               \n",
      "                                                                                                  \n",
      " z_mean (Dense)                 (None, 2)            34          ['dense_80[0][0]']               \n",
      "                                                                                                  \n",
      " tf.__operators__.add_46 (TFOpL  (None, 2)           0           ['z_log_var[0][0]']              \n",
      " ambda)                                                                                           \n",
      "                                                                                                  \n",
      " tf.math.square_23 (TFOpLambda)  (None, 2)           0           ['z_mean[0][0]']                 \n",
      "                                                                                                  \n",
      " tf.convert_to_tensor_26 (TFOpL  (None, 32, 32, 3)   0           ['decoder[0][0]']                \n",
      " ambda)                                                                                           \n",
      "                                                                                                  \n",
      " tf.cast_26 (TFOpLambda)        (None, 32, 32, 3)    0           ['input[0][0]']                  \n",
      "                                                                                                  \n",
      " tf.math.subtract_46 (TFOpLambd  (None, 2)           0           ['tf.__operators__.add_46[0][0]',\n",
      " a)                                                               'tf.math.square_23[0][0]']      \n",
      "                                                                                                  \n",
      " tf.math.exp_23 (TFOpLambda)    (None, 2)            0           ['z_log_var[0][0]']              \n",
      "                                                                                                  \n",
      " tf.math.squared_difference_26   (None, 32, 32, 3)   0           ['tf.convert_to_tensor_26[0][0]',\n",
      " (TFOpLambda)                                                     'tf.cast_26[0][0]']             \n",
      "                                                                                                  \n",
      " tf.math.subtract_47 (TFOpLambd  (None, 2)           0           ['tf.math.subtract_46[0][0]',    \n",
      " a)                                                               'tf.math.exp_23[0][0]']         \n",
      "                                                                                                  \n",
      " tf.math.reduce_mean_46 (TFOpLa  (None, 32, 32)      0           ['tf.math.squared_difference_26[0\n",
      " mbda)                                                           ][0]']                           \n",
      "                                                                                                  \n",
      " tf.math.reduce_sum_23 (TFOpLam  (None,)             0           ['tf.math.subtract_47[0][0]']    \n",
      " bda)                                                                                             \n",
      "                                                                                                  \n",
      " tf.math.multiply_54 (TFOpLambd  (None, 32, 32)      0           ['tf.math.reduce_mean_46[0][0]'] \n",
      " a)                                                                                               \n",
      "                                                                                                  \n",
      " tf.math.multiply_55 (TFOpLambd  (None,)             0           ['tf.math.reduce_sum_23[0][0]']  \n",
      " a)                                                                                               \n",
      "                                                                                                  \n",
      " tf.__operators__.add_47 (TFOpL  (None, 32, 32)      0           ['tf.math.multiply_54[0][0]',    \n",
      " ambda)                                                           'tf.math.multiply_55[0][0]']    \n",
      "                                                                                                  \n",
      " tf.math.reduce_mean_47 (TFOpLa  ()                  0           ['tf.__operators__.add_47[0][0]']\n",
      " mbda)                                                                                            \n",
      "                                                                                                  \n",
      " add_loss_22 (AddLoss)          ()                   0           ['tf.math.reduce_mean_47[0][0]'] \n",
      "                                                                                                  \n",
      "==================================================================================================\n",
      "Total params: 8,211\n",
      "Trainable params: 8,211\n",
      "Non-trainable params: 0\n",
      "__________________________________________________________________________________________________\n"
     ]
    }
   ],
   "source": [
    "reconstruction_loss = tf.losses.mean_squared_error(inputs, outputs)\n",
    "reconstruction_loss = reconstruction_loss * num_features\n",
    "\n",
    "# KL Divergence loss\n",
    "kl_loss = 1 + z_log_var - tf.square(z_mean) - tf.exp(z_log_var)\n",
    "kl_loss = -0.5 * tf.reduce_sum(kl_loss, axis=-1)\n",
    "vae_loss = tf.reduce_mean(reconstruction_loss + kl_loss)\n",
    "\n",
    "vae.add_loss(vae_loss)\n",
    "vae.compile(optimizer='adam')\n",
    "vae.summary()"
   ]
  },
  {
   "cell_type": "code",
   "execution_count": 314,
   "id": "b26c20ad",
   "metadata": {},
   "outputs": [
    {
     "data": {
      "text/plain": [
       "(32, 32, 3)"
      ]
     },
     "execution_count": 314,
     "metadata": {},
     "output_type": "execute_result"
    }
   ],
   "source": [
    "train_data[0].shape"
   ]
  },
  {
   "cell_type": "code",
   "execution_count": 315,
   "id": "fe8b7eab",
   "metadata": {
    "scrolled": false
   },
   "outputs": [
    {
     "name": "stdout",
     "output_type": "stream",
     "text": [
      "Epoch 1/50\n",
      "115/122 [===========================>..] - ETA: 0s - loss: 36.0662"
     ]
    },
    {
     "ename": "InvalidArgumentError",
     "evalue": " Incompatible shapes: [4,32,32] vs. [4]\n\t [[node gradient_tape/vae/tf.__operators__.add_45/BroadcastGradientArgs\n (defined at /opt/conda/lib/python3.8/site-packages/keras/optimizer_v2/optimizer_v2.py:464)\n]] [Op:__inference_train_function_1297801]\n\nErrors may have originated from an input operation.\nInput Source operations connected to node gradient_tape/vae/tf.__operators__.add_45/BroadcastGradientArgs:\nIn[0] gradient_tape/vae/tf.__operators__.add_45/Shape:\t\nIn[1] gradient_tape/vae/tf.__operators__.add_45/Shape_1:\n\nOperation defined at: (most recent call last)\n>>>   File \"/opt/conda/lib/python3.8/runpy.py\", line 194, in _run_module_as_main\n>>>     return _run_code(code, main_globals, None,\n>>> \n>>>   File \"/opt/conda/lib/python3.8/runpy.py\", line 87, in _run_code\n>>>     exec(code, run_globals)\n>>> \n>>>   File \"/opt/conda/lib/python3.8/site-packages/ipykernel_launcher.py\", line 16, in <module>\n>>>     app.launch_new_instance()\n>>> \n>>>   File \"/opt/conda/lib/python3.8/site-packages/traitlets/config/application.py\", line 845, in launch_instance\n>>>     app.start()\n>>> \n>>>   File \"/opt/conda/lib/python3.8/site-packages/ipykernel/kernelapp.py\", line 612, in start\n>>>     self.io_loop.start()\n>>> \n>>>   File \"/opt/conda/lib/python3.8/site-packages/tornado/platform/asyncio.py\", line 199, in start\n>>>     self.asyncio_loop.run_forever()\n>>> \n>>>   File \"/opt/conda/lib/python3.8/asyncio/base_events.py\", line 570, in run_forever\n>>>     self._run_once()\n>>> \n>>>   File \"/opt/conda/lib/python3.8/asyncio/base_events.py\", line 1859, in _run_once\n>>>     handle._run()\n>>> \n>>>   File \"/opt/conda/lib/python3.8/asyncio/events.py\", line 81, in _run\n>>>     self._context.run(self._callback, *self._args)\n>>> \n>>>   File \"/opt/conda/lib/python3.8/site-packages/tornado/ioloop.py\", line 688, in <lambda>\n>>>     lambda f: self._run_callback(functools.partial(callback, future))\n>>> \n>>>   File \"/opt/conda/lib/python3.8/site-packages/tornado/ioloop.py\", line 741, in _run_callback\n>>>     ret = callback()\n>>> \n>>>   File \"/opt/conda/lib/python3.8/site-packages/tornado/gen.py\", line 814, in inner\n>>>     self.ctx_run(self.run)\n>>> \n>>>   File \"/opt/conda/lib/python3.8/site-packages/tornado/gen.py\", line 775, in run\n>>>     yielded = self.gen.send(value)\n>>> \n>>>   File \"/opt/conda/lib/python3.8/site-packages/ipykernel/kernelbase.py\", line 365, in process_one\n>>>     yield gen.maybe_future(dispatch(*args))\n>>> \n>>>   File \"/opt/conda/lib/python3.8/site-packages/tornado/gen.py\", line 234, in wrapper\n>>>     yielded = ctx_run(next, result)\n>>> \n>>>   File \"/opt/conda/lib/python3.8/site-packages/ipykernel/kernelbase.py\", line 268, in dispatch_shell\n>>>     yield gen.maybe_future(handler(stream, idents, msg))\n>>> \n>>>   File \"/opt/conda/lib/python3.8/site-packages/tornado/gen.py\", line 234, in wrapper\n>>>     yielded = ctx_run(next, result)\n>>> \n>>>   File \"/opt/conda/lib/python3.8/site-packages/ipykernel/kernelbase.py\", line 543, in execute_request\n>>>     self.do_execute(\n>>> \n>>>   File \"/opt/conda/lib/python3.8/site-packages/tornado/gen.py\", line 234, in wrapper\n>>>     yielded = ctx_run(next, result)\n>>> \n>>>   File \"/opt/conda/lib/python3.8/site-packages/ipykernel/ipkernel.py\", line 306, in do_execute\n>>>     res = shell.run_cell(code, store_history=store_history, silent=silent)\n>>> \n>>>   File \"/opt/conda/lib/python3.8/site-packages/ipykernel/zmqshell.py\", line 536, in run_cell\n>>>     return super(ZMQInteractiveShell, self).run_cell(*args, **kwargs)\n>>> \n>>>   File \"/opt/conda/lib/python3.8/site-packages/IPython/core/interactiveshell.py\", line 2894, in run_cell\n>>>     result = self._run_cell(\n>>> \n>>>   File \"/opt/conda/lib/python3.8/site-packages/IPython/core/interactiveshell.py\", line 2940, in _run_cell\n>>>     return runner(coro)\n>>> \n>>>   File \"/opt/conda/lib/python3.8/site-packages/IPython/core/async_helpers.py\", line 68, in _pseudo_sync_runner\n>>>     coro.send(None)\n>>> \n>>>   File \"/opt/conda/lib/python3.8/site-packages/IPython/core/interactiveshell.py\", line 3165, in run_cell_async\n>>>     has_raised = await self.run_ast_nodes(code_ast.body, cell_name,\n>>> \n>>>   File \"/opt/conda/lib/python3.8/site-packages/IPython/core/interactiveshell.py\", line 3357, in run_ast_nodes\n>>>     if (await self.run_code(code, result,  async_=asy)):\n>>> \n>>>   File \"/opt/conda/lib/python3.8/site-packages/IPython/core/interactiveshell.py\", line 3437, in run_code\n>>>     exec(code_obj, self.user_global_ns, self.user_ns)\n>>> \n>>>   File \"<ipython-input-312-51b79425a8ad>\", line 2, in <module>\n>>>     vae.fit(train_data, epochs=EPOCHS, batch_size=BATCH_SIZE, validation_data=(validation_data, None))\n>>> \n>>>   File \"/opt/conda/lib/python3.8/site-packages/keras/utils/traceback_utils.py\", line 64, in error_handler\n>>>     return fn(*args, **kwargs)\n>>> \n>>>   File \"/opt/conda/lib/python3.8/site-packages/keras/engine/training.py\", line 1216, in fit\n>>>     tmp_logs = self.train_function(iterator)\n>>> \n>>>   File \"/opt/conda/lib/python3.8/site-packages/keras/engine/training.py\", line 878, in train_function\n>>>     return step_function(self, iterator)\n>>> \n>>>   File \"/opt/conda/lib/python3.8/site-packages/keras/engine/training.py\", line 867, in step_function\n>>>     outputs = model.distribute_strategy.run(run_step, args=(data,))\n>>> \n>>>   File \"/opt/conda/lib/python3.8/site-packages/keras/engine/training.py\", line 860, in run_step\n>>>     outputs = model.train_step(data)\n>>> \n>>>   File \"/opt/conda/lib/python3.8/site-packages/keras/engine/training.py\", line 816, in train_step\n>>>     self.optimizer.minimize(loss, self.trainable_variables, tape=tape)\n>>> \n>>>   File \"/opt/conda/lib/python3.8/site-packages/keras/optimizer_v2/optimizer_v2.py\", line 530, in minimize\n>>>     grads_and_vars = self._compute_gradients(\n>>> \n>>>   File \"/opt/conda/lib/python3.8/site-packages/keras/optimizer_v2/optimizer_v2.py\", line 583, in _compute_gradients\n>>>     grads_and_vars = self._get_gradients(tape, loss, var_list, grad_loss)\n>>> \n>>>   File \"/opt/conda/lib/python3.8/site-packages/keras/optimizer_v2/optimizer_v2.py\", line 464, in _get_gradients\n>>>     grads = tape.gradient(loss, var_list, grad_loss)\n>>> ",
     "output_type": "error",
     "traceback": [
      "\u001b[0;31m\u001b[0m",
      "\u001b[0;31mInvalidArgumentError\u001b[0mTraceback (most recent call last)",
      "\u001b[0;32m<ipython-input-315-51b79425a8ad>\u001b[0m in \u001b[0;36m<module>\u001b[0;34m\u001b[0m\n\u001b[1;32m      1\u001b[0m \u001b[0;31m# X_train, X_test = X_train.reshape([-1, 28, 28, 1]), X_test.reshape([-1, 28, 28, 1])\u001b[0m\u001b[0;34m\u001b[0m\u001b[0;34m\u001b[0m\u001b[0;34m\u001b[0m\u001b[0m\n\u001b[0;32m----> 2\u001b[0;31m \u001b[0mvae\u001b[0m\u001b[0;34m.\u001b[0m\u001b[0mfit\u001b[0m\u001b[0;34m(\u001b[0m\u001b[0mtrain_data\u001b[0m\u001b[0;34m,\u001b[0m \u001b[0mepochs\u001b[0m\u001b[0;34m=\u001b[0m\u001b[0mEPOCHS\u001b[0m\u001b[0;34m,\u001b[0m \u001b[0mbatch_size\u001b[0m\u001b[0;34m=\u001b[0m\u001b[0mBATCH_SIZE\u001b[0m\u001b[0;34m,\u001b[0m \u001b[0mvalidation_data\u001b[0m\u001b[0;34m=\u001b[0m\u001b[0;34m(\u001b[0m\u001b[0mvalidation_data\u001b[0m\u001b[0;34m,\u001b[0m \u001b[0;32mNone\u001b[0m\u001b[0;34m)\u001b[0m\u001b[0;34m)\u001b[0m\u001b[0;34m\u001b[0m\u001b[0;34m\u001b[0m\u001b[0m\n\u001b[0m",
      "\u001b[0;32m/opt/conda/lib/python3.8/site-packages/keras/utils/traceback_utils.py\u001b[0m in \u001b[0;36merror_handler\u001b[0;34m(*args, **kwargs)\u001b[0m\n\u001b[1;32m     65\u001b[0m     \u001b[0;32mexcept\u001b[0m \u001b[0mException\u001b[0m \u001b[0;32mas\u001b[0m \u001b[0me\u001b[0m\u001b[0;34m:\u001b[0m  \u001b[0;31m# pylint: disable=broad-except\u001b[0m\u001b[0;34m\u001b[0m\u001b[0;34m\u001b[0m\u001b[0m\n\u001b[1;32m     66\u001b[0m       \u001b[0mfiltered_tb\u001b[0m \u001b[0;34m=\u001b[0m \u001b[0m_process_traceback_frames\u001b[0m\u001b[0;34m(\u001b[0m\u001b[0me\u001b[0m\u001b[0;34m.\u001b[0m\u001b[0m__traceback__\u001b[0m\u001b[0;34m)\u001b[0m\u001b[0;34m\u001b[0m\u001b[0;34m\u001b[0m\u001b[0m\n\u001b[0;32m---> 67\u001b[0;31m       \u001b[0;32mraise\u001b[0m \u001b[0me\u001b[0m\u001b[0;34m.\u001b[0m\u001b[0mwith_traceback\u001b[0m\u001b[0;34m(\u001b[0m\u001b[0mfiltered_tb\u001b[0m\u001b[0;34m)\u001b[0m \u001b[0;32mfrom\u001b[0m \u001b[0;32mNone\u001b[0m\u001b[0;34m\u001b[0m\u001b[0;34m\u001b[0m\u001b[0m\n\u001b[0m\u001b[1;32m     68\u001b[0m     \u001b[0;32mfinally\u001b[0m\u001b[0;34m:\u001b[0m\u001b[0;34m\u001b[0m\u001b[0;34m\u001b[0m\u001b[0m\n\u001b[1;32m     69\u001b[0m       \u001b[0;32mdel\u001b[0m \u001b[0mfiltered_tb\u001b[0m\u001b[0;34m\u001b[0m\u001b[0;34m\u001b[0m\u001b[0m\n",
      "\u001b[0;32m/opt/conda/lib/python3.8/site-packages/tensorflow/python/eager/execute.py\u001b[0m in \u001b[0;36mquick_execute\u001b[0;34m(op_name, num_outputs, inputs, attrs, ctx, name)\u001b[0m\n\u001b[1;32m     56\u001b[0m   \u001b[0;32mtry\u001b[0m\u001b[0;34m:\u001b[0m\u001b[0;34m\u001b[0m\u001b[0;34m\u001b[0m\u001b[0m\n\u001b[1;32m     57\u001b[0m     \u001b[0mctx\u001b[0m\u001b[0;34m.\u001b[0m\u001b[0mensure_initialized\u001b[0m\u001b[0;34m(\u001b[0m\u001b[0;34m)\u001b[0m\u001b[0;34m\u001b[0m\u001b[0;34m\u001b[0m\u001b[0m\n\u001b[0;32m---> 58\u001b[0;31m     tensors = pywrap_tfe.TFE_Py_Execute(ctx._handle, device_name, op_name,\n\u001b[0m\u001b[1;32m     59\u001b[0m                                         inputs, attrs, num_outputs)\n\u001b[1;32m     60\u001b[0m   \u001b[0;32mexcept\u001b[0m \u001b[0mcore\u001b[0m\u001b[0;34m.\u001b[0m\u001b[0m_NotOkStatusException\u001b[0m \u001b[0;32mas\u001b[0m \u001b[0me\u001b[0m\u001b[0;34m:\u001b[0m\u001b[0;34m\u001b[0m\u001b[0;34m\u001b[0m\u001b[0m\n",
      "\u001b[0;31mInvalidArgumentError\u001b[0m:  Incompatible shapes: [4,32,32] vs. [4]\n\t [[node gradient_tape/vae/tf.__operators__.add_45/BroadcastGradientArgs\n (defined at /opt/conda/lib/python3.8/site-packages/keras/optimizer_v2/optimizer_v2.py:464)\n]] [Op:__inference_train_function_1297801]\n\nErrors may have originated from an input operation.\nInput Source operations connected to node gradient_tape/vae/tf.__operators__.add_45/BroadcastGradientArgs:\nIn[0] gradient_tape/vae/tf.__operators__.add_45/Shape:\t\nIn[1] gradient_tape/vae/tf.__operators__.add_45/Shape_1:\n\nOperation defined at: (most recent call last)\n>>>   File \"/opt/conda/lib/python3.8/runpy.py\", line 194, in _run_module_as_main\n>>>     return _run_code(code, main_globals, None,\n>>> \n>>>   File \"/opt/conda/lib/python3.8/runpy.py\", line 87, in _run_code\n>>>     exec(code, run_globals)\n>>> \n>>>   File \"/opt/conda/lib/python3.8/site-packages/ipykernel_launcher.py\", line 16, in <module>\n>>>     app.launch_new_instance()\n>>> \n>>>   File \"/opt/conda/lib/python3.8/site-packages/traitlets/config/application.py\", line 845, in launch_instance\n>>>     app.start()\n>>> \n>>>   File \"/opt/conda/lib/python3.8/site-packages/ipykernel/kernelapp.py\", line 612, in start\n>>>     self.io_loop.start()\n>>> \n>>>   File \"/opt/conda/lib/python3.8/site-packages/tornado/platform/asyncio.py\", line 199, in start\n>>>     self.asyncio_loop.run_forever()\n>>> \n>>>   File \"/opt/conda/lib/python3.8/asyncio/base_events.py\", line 570, in run_forever\n>>>     self._run_once()\n>>> \n>>>   File \"/opt/conda/lib/python3.8/asyncio/base_events.py\", line 1859, in _run_once\n>>>     handle._run()\n>>> \n>>>   File \"/opt/conda/lib/python3.8/asyncio/events.py\", line 81, in _run\n>>>     self._context.run(self._callback, *self._args)\n>>> \n>>>   File \"/opt/conda/lib/python3.8/site-packages/tornado/ioloop.py\", line 688, in <lambda>\n>>>     lambda f: self._run_callback(functools.partial(callback, future))\n>>> \n>>>   File \"/opt/conda/lib/python3.8/site-packages/tornado/ioloop.py\", line 741, in _run_callback\n>>>     ret = callback()\n>>> \n>>>   File \"/opt/conda/lib/python3.8/site-packages/tornado/gen.py\", line 814, in inner\n>>>     self.ctx_run(self.run)\n>>> \n>>>   File \"/opt/conda/lib/python3.8/site-packages/tornado/gen.py\", line 775, in run\n>>>     yielded = self.gen.send(value)\n>>> \n>>>   File \"/opt/conda/lib/python3.8/site-packages/ipykernel/kernelbase.py\", line 365, in process_one\n>>>     yield gen.maybe_future(dispatch(*args))\n>>> \n>>>   File \"/opt/conda/lib/python3.8/site-packages/tornado/gen.py\", line 234, in wrapper\n>>>     yielded = ctx_run(next, result)\n>>> \n>>>   File \"/opt/conda/lib/python3.8/site-packages/ipykernel/kernelbase.py\", line 268, in dispatch_shell\n>>>     yield gen.maybe_future(handler(stream, idents, msg))\n>>> \n>>>   File \"/opt/conda/lib/python3.8/site-packages/tornado/gen.py\", line 234, in wrapper\n>>>     yielded = ctx_run(next, result)\n>>> \n>>>   File \"/opt/conda/lib/python3.8/site-packages/ipykernel/kernelbase.py\", line 543, in execute_request\n>>>     self.do_execute(\n>>> \n>>>   File \"/opt/conda/lib/python3.8/site-packages/tornado/gen.py\", line 234, in wrapper\n>>>     yielded = ctx_run(next, result)\n>>> \n>>>   File \"/opt/conda/lib/python3.8/site-packages/ipykernel/ipkernel.py\", line 306, in do_execute\n>>>     res = shell.run_cell(code, store_history=store_history, silent=silent)\n>>> \n>>>   File \"/opt/conda/lib/python3.8/site-packages/ipykernel/zmqshell.py\", line 536, in run_cell\n>>>     return super(ZMQInteractiveShell, self).run_cell(*args, **kwargs)\n>>> \n>>>   File \"/opt/conda/lib/python3.8/site-packages/IPython/core/interactiveshell.py\", line 2894, in run_cell\n>>>     result = self._run_cell(\n>>> \n>>>   File \"/opt/conda/lib/python3.8/site-packages/IPython/core/interactiveshell.py\", line 2940, in _run_cell\n>>>     return runner(coro)\n>>> \n>>>   File \"/opt/conda/lib/python3.8/site-packages/IPython/core/async_helpers.py\", line 68, in _pseudo_sync_runner\n>>>     coro.send(None)\n>>> \n>>>   File \"/opt/conda/lib/python3.8/site-packages/IPython/core/interactiveshell.py\", line 3165, in run_cell_async\n>>>     has_raised = await self.run_ast_nodes(code_ast.body, cell_name,\n>>> \n>>>   File \"/opt/conda/lib/python3.8/site-packages/IPython/core/interactiveshell.py\", line 3357, in run_ast_nodes\n>>>     if (await self.run_code(code, result,  async_=asy)):\n>>> \n>>>   File \"/opt/conda/lib/python3.8/site-packages/IPython/core/interactiveshell.py\", line 3437, in run_code\n>>>     exec(code_obj, self.user_global_ns, self.user_ns)\n>>> \n>>>   File \"<ipython-input-312-51b79425a8ad>\", line 2, in <module>\n>>>     vae.fit(train_data, epochs=EPOCHS, batch_size=BATCH_SIZE, validation_data=(validation_data, None))\n>>> \n>>>   File \"/opt/conda/lib/python3.8/site-packages/keras/utils/traceback_utils.py\", line 64, in error_handler\n>>>     return fn(*args, **kwargs)\n>>> \n>>>   File \"/opt/conda/lib/python3.8/site-packages/keras/engine/training.py\", line 1216, in fit\n>>>     tmp_logs = self.train_function(iterator)\n>>> \n>>>   File \"/opt/conda/lib/python3.8/site-packages/keras/engine/training.py\", line 878, in train_function\n>>>     return step_function(self, iterator)\n>>> \n>>>   File \"/opt/conda/lib/python3.8/site-packages/keras/engine/training.py\", line 867, in step_function\n>>>     outputs = model.distribute_strategy.run(run_step, args=(data,))\n>>> \n>>>   File \"/opt/conda/lib/python3.8/site-packages/keras/engine/training.py\", line 860, in run_step\n>>>     outputs = model.train_step(data)\n>>> \n>>>   File \"/opt/conda/lib/python3.8/site-packages/keras/engine/training.py\", line 816, in train_step\n>>>     self.optimizer.minimize(loss, self.trainable_variables, tape=tape)\n>>> \n>>>   File \"/opt/conda/lib/python3.8/site-packages/keras/optimizer_v2/optimizer_v2.py\", line 530, in minimize\n>>>     grads_and_vars = self._compute_gradients(\n>>> \n>>>   File \"/opt/conda/lib/python3.8/site-packages/keras/optimizer_v2/optimizer_v2.py\", line 583, in _compute_gradients\n>>>     grads_and_vars = self._get_gradients(tape, loss, var_list, grad_loss)\n>>> \n>>>   File \"/opt/conda/lib/python3.8/site-packages/keras/optimizer_v2/optimizer_v2.py\", line 464, in _get_gradients\n>>>     grads = tape.gradient(loss, var_list, grad_loss)\n>>> "
     ]
    }
   ],
   "source": [
    "vae.fit(train_data, epochs=EPOCHS, batch_size=BATCH_SIZE, validation_data=(validation_data, None))"
   ]
  },
  {
   "cell_type": "code",
   "execution_count": null,
   "id": "907a5abc",
   "metadata": {},
   "outputs": [],
   "source": []
  }
 ],
 "metadata": {
  "kernelspec": {
   "display_name": "Python 3",
   "language": "python",
   "name": "python3"
  },
  "language_info": {
   "codemirror_mode": {
    "name": "ipython",
    "version": 3
   },
   "file_extension": ".py",
   "mimetype": "text/x-python",
   "name": "python",
   "nbconvert_exporter": "python",
   "pygments_lexer": "ipython3",
   "version": "3.8.8"
  }
 },
 "nbformat": 4,
 "nbformat_minor": 5
}
